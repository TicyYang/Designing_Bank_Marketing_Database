{
 "cells": [
  {
   "cell_type": "markdown",
   "metadata": {},
   "source": [
    "# Import the libraries and load dataset"
   ]
  },
  {
   "cell_type": "code",
   "execution_count": 1,
   "metadata": {
    "execution": {
     "iopub.execute_input": "2023-09-09T14:01:05.866105Z",
     "iopub.status.busy": "2023-09-09T14:01:05.865562Z",
     "iopub.status.idle": "2023-09-09T14:01:23.507873Z",
     "shell.execute_reply": "2023-09-09T14:01:23.506261Z",
     "shell.execute_reply.started": "2023-09-09T14:01:05.866060Z"
    }
   },
   "outputs": [
    {
     "name": "stdout",
     "output_type": "stream",
     "text": [
      "+---------+---+-----------+-------+-------------------+--------------+-------+----+---------+-----+---+--------+--------+-----+--------+-----------+------------+--------------+-------------+---------+-----------+---+\n",
      "|client_id|age|        job|marital|          education|credit_default|housing|loan|  contact|month|day|duration|campaign|pdays|previous|   poutcome|emp_var_rate|cons_price_idx|cons_conf_idx|euribor3m|nr_employed|  y|\n",
      "+---------+---+-----------+-------+-------------------+--------------+-------+----+---------+-----+---+--------+--------+-----+--------+-----------+------------+--------------+-------------+---------+-----------+---+\n",
      "|        0| 56|  housemaid|married|           basic.4y|            no|     no|  no|telephone|  may| 13|     261|       1|  999|       0|nonexistent|         1.1|        93.994|        -36.4|    4.857|     5191.0| no|\n",
      "|        1| 57|   services|married|        high.school|       unknown|     no|  no|telephone|  may| 19|     149|       1|  999|       0|nonexistent|         1.1|        93.994|        -36.4|    4.857|     5191.0| no|\n",
      "|        2| 37|   services|married|        high.school|            no|    yes|  no|telephone|  may| 23|     226|       1|  999|       0|nonexistent|         1.1|        93.994|        -36.4|    4.857|     5191.0| no|\n",
      "|        3| 40|     admin.|married|           basic.6y|            no|     no|  no|telephone|  may| 27|     151|       1|  999|       0|nonexistent|         1.1|        93.994|        -36.4|    4.857|     5191.0| no|\n",
      "|        4| 56|   services|married|        high.school|            no|     no| yes|telephone|  may|  3|     307|       1|  999|       0|nonexistent|         1.1|        93.994|        -36.4|    4.857|     5191.0| no|\n",
      "|        5| 45|   services|married|           basic.9y|       unknown|     no|  no|telephone|  may|  5|     198|       1|  999|       0|nonexistent|         1.1|        93.994|        -36.4|    4.857|     5191.0| no|\n",
      "|        6| 59|     admin.|married|professional.course|            no|     no|  no|telephone|  may|  3|     139|       1|  999|       0|nonexistent|         1.1|        93.994|        -36.4|    4.857|     5191.0| no|\n",
      "|        7| 41|blue-collar|married|            unknown|       unknown|     no|  no|telephone|  may| 12|     217|       1|  999|       0|nonexistent|         1.1|        93.994|        -36.4|    4.857|     5191.0| no|\n",
      "|        8| 24| technician| single|professional.course|            no|    yes|  no|telephone|  may| 21|     380|       1|  999|       0|nonexistent|         1.1|        93.994|        -36.4|    4.857|     5191.0| no|\n",
      "|        9| 25|   services| single|        high.school|            no|    yes|  no|telephone|  may|  5|      50|       1|  999|       0|nonexistent|         1.1|        93.994|        -36.4|    4.857|     5191.0| no|\n",
      "+---------+---+-----------+-------+-------------------+--------------+-------+----+---------+-----+---+--------+--------+-----+--------+-----------+------------+--------------+-------------+---------+-----------+---+\n",
      "only showing top 10 rows\n",
      "\n",
      "root\n",
      " |-- client_id: integer (nullable = true)\n",
      " |-- age: integer (nullable = true)\n",
      " |-- job: string (nullable = true)\n",
      " |-- marital: string (nullable = true)\n",
      " |-- education: string (nullable = true)\n",
      " |-- credit_default: string (nullable = true)\n",
      " |-- housing: string (nullable = true)\n",
      " |-- loan: string (nullable = true)\n",
      " |-- contact: string (nullable = true)\n",
      " |-- month: string (nullable = true)\n",
      " |-- day: integer (nullable = true)\n",
      " |-- duration: integer (nullable = true)\n",
      " |-- campaign: integer (nullable = true)\n",
      " |-- pdays: integer (nullable = true)\n",
      " |-- previous: integer (nullable = true)\n",
      " |-- poutcome: string (nullable = true)\n",
      " |-- emp_var_rate: double (nullable = true)\n",
      " |-- cons_price_idx: double (nullable = true)\n",
      " |-- cons_conf_idx: double (nullable = true)\n",
      " |-- euribor3m: double (nullable = true)\n",
      " |-- nr_employed: double (nullable = true)\n",
      " |-- y: string (nullable = true)\n",
      "\n"
     ]
    },
    {
     "data": {
      "text/plain": [
       "41188"
      ]
     },
     "execution_count": 1,
     "metadata": {},
     "output_type": "execute_result"
    }
   ],
   "source": [
    "import numpy as np\n",
    "import pandas as pd\n",
    "import findspark\n",
    "findspark.init()\n",
    "import pyspark\n",
    "from pyspark.sql import SparkSession, Row\n",
    "from pyspark.sql.functions import *\n",
    "\n",
    "spark = SparkSession.builder.master('local').appName('bank_marketing_data_cleaning').getOrCreate()\n",
    "\n",
    "df = spark.read.options(header=True, inferSchema=True).csv('csv_files/bank_marketing.csv')\n",
    "df.show(10)\n",
    "df.printSchema()\n",
    "df.count()"
   ]
  },
  {
   "cell_type": "markdown",
   "metadata": {},
   "source": [
    "# Data cleaning and rearranging"
   ]
  },
  {
   "cell_type": "code",
   "execution_count": 3,
   "metadata": {
    "execution": {
     "iopub.execute_input": "2023-09-09T14:01:23.519960Z",
     "iopub.status.busy": "2023-09-09T14:01:23.515566Z",
     "iopub.status.idle": "2023-09-09T14:01:29.542927Z",
     "shell.execute_reply": "2023-09-09T14:01:29.541264Z",
     "shell.execute_reply.started": "2023-09-09T14:01:23.519893Z"
    }
   },
   "outputs": [
    {
     "name": "stdout",
     "output_type": "stream",
     "text": [
      "Num of unknown in client_id: 0\n",
      "Num of unknown in age: 0\n"
     ]
    },
    {
     "name": "stderr",
     "output_type": "stream",
     "text": [
      "                                                                                \r"
     ]
    },
    {
     "name": "stdout",
     "output_type": "stream",
     "text": [
      "Num of unknown in job: 330\n",
      "Num of unknown in marital: 80\n",
      "Num of unknown in education: 1731\n",
      "Num of unknown in credit_default: 8597\n",
      "Num of unknown in housing: 990\n",
      "Num of unknown in loan: 990\n",
      "Num of unknown in contact: 0\n",
      "Num of unknown in month: 0\n",
      "Num of unknown in day: 0\n",
      "Num of unknown in duration: 0\n",
      "Num of unknown in campaign: 0\n",
      "Num of unknown in pdays: 0\n",
      "Num of unknown in previous: 0\n",
      "Num of unknown in poutcome: 0\n",
      "Num of unknown in emp_var_rate: 0\n",
      "Num of unknown in cons_price_idx: 0\n",
      "Num of unknown in cons_conf_idx: 0\n",
      "Num of unknown in euribor3m: 0\n",
      "Num of unknown in nr_employed: 0\n",
      "Num of unknown in y: 0\n"
     ]
    }
   ],
   "source": [
    "for c in df.columns:\n",
    "    num_unknown = df.filter(f'{c} == \"unknown\"').count()\n",
    "    print(f'Num of unknown in {c}: {num_unknown}')"
   ]
  },
  {
   "cell_type": "code",
   "execution_count": 4,
   "metadata": {
    "execution": {
     "iopub.execute_input": "2023-09-09T14:01:29.547960Z",
     "iopub.status.busy": "2023-09-09T14:01:29.546354Z",
     "iopub.status.idle": "2023-09-09T14:01:32.185702Z",
     "shell.execute_reply": "2023-09-09T14:01:32.184526Z",
     "shell.execute_reply.started": "2023-09-09T14:01:29.547899Z"
    }
   },
   "outputs": [
    {
     "name": "stderr",
     "output_type": "stream",
     "text": [
      "[Stage 60:>                                                         (0 + 1) / 1]\r"
     ]
    },
    {
     "name": "stdout",
     "output_type": "stream",
     "text": [
      "+---------+---+---+-------+---------+--------------+-------+----+-------+-----+---+--------+--------+-----+--------+--------+------------+--------------+-------------+---------+-----------+---+\n",
      "|client_id|age|job|marital|education|credit_default|housing|loan|contact|month|day|duration|campaign|pdays|previous|poutcome|emp_var_rate|cons_price_idx|cons_conf_idx|euribor3m|nr_employed|  y|\n",
      "+---------+---+---+-------+---------+--------------+-------+----+-------+-----+---+--------+--------+-----+--------+--------+------------+--------------+-------------+---------+-----------+---+\n",
      "|        0|  0|330|     80|     1731|             0|      0|   0|      0|    0|  0|       0|       0|    0|       0|       0|           0|             0|            0|        0|          0|  0|\n",
      "+---------+---+---+-------+---------+--------------+-------+----+-------+-----+---+--------+--------+-----+--------+--------+------------+--------------+-------------+---------+-----------+---+\n",
      "\n"
     ]
    },
    {
     "name": "stderr",
     "output_type": "stream",
     "text": [
      "                                                                                \r"
     ]
    }
   ],
   "source": [
    "for c in ['job', 'marital', 'education']:\n",
    "    df = df.withColumn(c, when(col(c) == 'unknown', None).otherwise(col(c)))\n",
    "\n",
    "for c in ['credit_default', 'housing', 'loan', 'y']:\n",
    "    df = df.withColumn(c, when(col(c) == 'yes', 1).otherwise(0))\n",
    "\n",
    "df = df.withColumn('poutcome', when(col('poutcome') == 'success', 1).otherwise(0))\n",
    "\n",
    "df.select([count(when(isnan(c) | col(c).isNull(), c)).alias(c) for c in df.columns]).show()"
   ]
  },
  {
   "cell_type": "code",
   "execution_count": 5,
   "metadata": {
    "execution": {
     "iopub.execute_input": "2023-09-09T14:01:32.187522Z",
     "iopub.status.busy": "2023-09-09T14:01:32.187101Z",
     "iopub.status.idle": "2023-09-09T14:01:34.317277Z",
     "shell.execute_reply": "2023-09-09T14:01:34.315764Z",
     "shell.execute_reply.started": "2023-09-09T14:01:32.187480Z"
    }
   },
   "outputs": [
    {
     "name": "stdout",
     "output_type": "stream",
     "text": [
      "+-------------------+-----+\n",
      "|          education|count|\n",
      "+-------------------+-----+\n",
      "|  university.degree|13692|\n",
      "|        high.school| 9464|\n",
      "|           basic.9y| 6006|\n",
      "|professional.course| 5225|\n",
      "|           basic.4y| 4118|\n",
      "|           basic.6y| 2264|\n",
      "|         illiterate|   18|\n",
      "+-------------------+-----+\n",
      "\n"
     ]
    }
   ],
   "source": [
    "df = df.dropna(subset=['job', 'marital'])\n",
    "\n",
    "education_mode = df.groupBy('education').count().orderBy(desc('count')).select('education').collect()[0]\n",
    "education_mode = (education_mode['education'])\n",
    "df = df.fillna(value=education_mode, subset=['education'])\n",
    "df.groupBy('education').count().orderBy(desc('count')).show()"
   ]
  },
  {
   "cell_type": "code",
   "execution_count": 6,
   "metadata": {
    "execution": {
     "iopub.execute_input": "2023-09-09T14:01:34.321768Z",
     "iopub.status.busy": "2023-09-09T14:01:34.321017Z",
     "iopub.status.idle": "2023-09-09T14:01:35.052761Z",
     "shell.execute_reply": "2023-09-09T14:01:35.051445Z",
     "shell.execute_reply.started": "2023-09-09T14:01:34.321712Z"
    }
   },
   "outputs": [
    {
     "name": "stdout",
     "output_type": "stream",
     "text": [
      "+-----+-----+\n",
      "|month|count|\n",
      "+-----+-----+\n",
      "|   03|  541|\n",
      "|   04| 2620|\n",
      "|   05|13619|\n",
      "|   06| 5245|\n",
      "|   07| 7118|\n",
      "|   08| 6108|\n",
      "|   09|  562|\n",
      "|   10|  707|\n",
      "|   11| 4087|\n",
      "|   12|  180|\n",
      "+-----+-----+\n",
      "\n"
     ]
    }
   ],
   "source": [
    "month_map = {'jan': '01', 'feb': '02', 'mar': '03', 'apr': '04', 'may': '05', 'jun': '06', \n",
    "             'jul': '07', 'aug': '08', 'sep': '09', 'oct': '10', 'nov': '11', 'dec': '12'}\n",
    "\n",
    "df = df.na.replace(month_map, None, 'month')\n",
    "\n",
    "df.groupBy('month').count().orderBy('month').show()"
   ]
  },
  {
   "cell_type": "code",
   "execution_count": 7,
   "metadata": {
    "execution": {
     "iopub.execute_input": "2023-09-09T14:01:35.054621Z",
     "iopub.status.busy": "2023-09-09T14:01:35.054156Z",
     "iopub.status.idle": "2023-09-09T14:01:35.133892Z",
     "shell.execute_reply": "2023-09-09T14:01:35.132907Z",
     "shell.execute_reply.started": "2023-09-09T14:01:35.054579Z"
    }
   },
   "outputs": [],
   "source": [
    "df = df.withColumn('year', lit('2022'))\n",
    "df = df.withColumn('day', df.day.cast('string'))\n",
    "\n",
    "df = df.withColumn('date', concat_ws('-', 'year', 'month', 'day'))"
   ]
  },
  {
   "cell_type": "code",
   "execution_count": 8,
   "metadata": {
    "execution": {
     "iopub.execute_input": "2023-09-09T14:01:35.137882Z",
     "iopub.status.busy": "2023-09-09T14:01:35.137345Z",
     "iopub.status.idle": "2023-09-09T14:01:35.182240Z",
     "shell.execute_reply": "2023-09-09T14:01:35.181082Z",
     "shell.execute_reply.started": "2023-09-09T14:01:35.137806Z"
    }
   },
   "outputs": [],
   "source": [
    "df = df.withColumn('last_contact_date', to_date('date'))\n",
    "df = df.drop('year', 'month', 'day', 'date')"
   ]
  },
  {
   "cell_type": "markdown",
   "metadata": {},
   "source": [
    "# Split into 3 DataFrames: client, campaign, economics"
   ]
  },
  {
   "cell_type": "code",
   "execution_count": 9,
   "metadata": {
    "execution": {
     "iopub.execute_input": "2023-09-09T14:01:35.190048Z",
     "iopub.status.busy": "2023-09-09T14:01:35.187410Z",
     "iopub.status.idle": "2023-09-09T14:01:36.140551Z",
     "shell.execute_reply": "2023-09-09T14:01:36.139271Z",
     "shell.execute_reply.started": "2023-09-09T14:01:35.189999Z"
    }
   },
   "outputs": [
    {
     "name": "stdout",
     "output_type": "stream",
     "text": [
      "+---+---+-----------+-------+-------------------+--------------+-------+----+\n",
      "| id|age|        job|marital|          education|credit_default|housing|loan|\n",
      "+---+---+-----------+-------+-------------------+--------------+-------+----+\n",
      "|  0| 56|  housemaid|married|           basic.4y|             0|      0|   0|\n",
      "|  1| 57|   services|married|        high.school|             0|      0|   0|\n",
      "|  2| 37|   services|married|        high.school|             0|      1|   0|\n",
      "|  3| 40|     admin.|married|           basic.6y|             0|      0|   0|\n",
      "|  4| 56|   services|married|        high.school|             0|      0|   1|\n",
      "|  5| 45|   services|married|           basic.9y|             0|      0|   0|\n",
      "|  6| 59|     admin.|married|professional.course|             0|      0|   0|\n",
      "|  7| 41|blue-collar|married|  university.degree|             0|      0|   0|\n",
      "|  8| 24| technician| single|professional.course|             0|      1|   0|\n",
      "|  9| 25|   services| single|        high.school|             0|      1|   0|\n",
      "+---+---+-----------+-------+-------------------+--------------+-------+----+\n",
      "only showing top 10 rows\n",
      "\n",
      "+---------+---------------+----------------+-----+--------------------------+----------------+----------------+-----------------+\n",
      "|client_id|number_contacts|contact_duration|pdays|previous_campaign_contacts|previous_outcome|campaign_outcome|last_contact_date|\n",
      "+---------+---------------+----------------+-----+--------------------------+----------------+----------------+-----------------+\n",
      "|        0|              1|             261|  999|                         0|               0|               0|       2022-05-13|\n",
      "|        1|              1|             149|  999|                         0|               0|               0|       2022-05-19|\n",
      "|        2|              1|             226|  999|                         0|               0|               0|       2022-05-23|\n",
      "|        3|              1|             151|  999|                         0|               0|               0|       2022-05-27|\n",
      "|        4|              1|             307|  999|                         0|               0|               0|       2022-05-03|\n",
      "|        5|              1|             198|  999|                         0|               0|               0|       2022-05-05|\n",
      "|        6|              1|             139|  999|                         0|               0|               0|       2022-05-03|\n",
      "|        7|              1|             217|  999|                         0|               0|               0|       2022-05-12|\n",
      "|        8|              1|             380|  999|                         0|               0|               0|       2022-05-21|\n",
      "|        9|              1|              50|  999|                         0|               0|               0|       2022-05-05|\n",
      "+---------+---------------+----------------+-----+--------------------------+----------------+----------------+-----------------+\n",
      "only showing top 10 rows\n",
      "\n",
      "+---------+------------+--------------+-------------+--------------------+---------------+\n",
      "|client_id|emp_var_rate|cons_price_idx|cons_conf_idx|euribor_three_months|number_employed|\n",
      "+---------+------------+--------------+-------------+--------------------+---------------+\n",
      "|        0|         1.1|        93.994|        -36.4|               4.857|         5191.0|\n",
      "|        1|         1.1|        93.994|        -36.4|               4.857|         5191.0|\n",
      "|        2|         1.1|        93.994|        -36.4|               4.857|         5191.0|\n",
      "|        3|         1.1|        93.994|        -36.4|               4.857|         5191.0|\n",
      "|        4|         1.1|        93.994|        -36.4|               4.857|         5191.0|\n",
      "|        5|         1.1|        93.994|        -36.4|               4.857|         5191.0|\n",
      "|        6|         1.1|        93.994|        -36.4|               4.857|         5191.0|\n",
      "|        7|         1.1|        93.994|        -36.4|               4.857|         5191.0|\n",
      "|        8|         1.1|        93.994|        -36.4|               4.857|         5191.0|\n",
      "|        9|         1.1|        93.994|        -36.4|               4.857|         5191.0|\n",
      "+---------+------------+--------------+-------------+--------------------+---------------+\n",
      "only showing top 10 rows\n",
      "\n"
     ]
    }
   ],
   "source": [
    "client = df.select('client_id', 'age', 'job', 'marital', 'education', 'credit_default', 'housing', 'loan')\n",
    "client = client.withColumnRenamed('client_id', 'id')\n",
    "client.show(10)\n",
    "\n",
    "\n",
    "campaign = df.select('client_id', 'campaign', 'duration', 'pdays', 'previous', 'poutcome', 'y', 'last_contact_date')\n",
    "campaign = campaign.withColumnRenamed('campaign', 'number_contacts') \\\n",
    "                   .withColumnRenamed('duration', 'contact_duration') \\\n",
    "                   .withColumnRenamed('previous', 'previous_campaign_contacts') \\\n",
    "                   .withColumnRenamed('poutcome', 'previous_outcome') \\\n",
    "                   .withColumnRenamed('y', 'campaign_outcome')\n",
    "campaign.show(10)\n",
    "\n",
    "economics = df.select('client_id', 'emp_var_rate', 'cons_price_idx', 'cons_conf_idx', 'euribor3m', 'nr_employed')\n",
    "economics = economics.withColumnRenamed('euribor3m', 'euribor_three_months') \\\n",
    "                     .withColumnRenamed('nr_employed', 'number_employed')\n",
    "economics.show(10)"
   ]
  },
  {
   "cell_type": "markdown",
   "metadata": {},
   "source": [
    "# Save as csv"
   ]
  },
  {
   "cell_type": "code",
   "execution_count": 10,
   "metadata": {
    "execution": {
     "iopub.execute_input": "2023-09-09T14:01:36.145185Z",
     "iopub.status.busy": "2023-09-09T14:01:36.143539Z",
     "iopub.status.idle": "2023-09-09T14:01:38.959459Z",
     "shell.execute_reply": "2023-09-09T14:01:38.957990Z",
     "shell.execute_reply.started": "2023-09-09T14:01:36.145136Z"
    }
   },
   "outputs": [
    {
     "name": "stderr",
     "output_type": "stream",
     "text": [
      "                                                                                \r"
     ]
    }
   ],
   "source": [
    "client.write.option('header', True).csv('csv_files/client.csv')\n",
    "campaign.write.option('header', True).csv('csv_files/campaign.csv')\n",
    "economics.write.option('header', True).csv('csv_files/economics.csv')"
   ]
  }
 ],
 "metadata": {
  "kernelspec": {
   "display_name": "Python 3 (ipykernel)",
   "language": "python",
   "name": "python3"
  },
  "language_info": {
   "codemirror_mode": {
    "name": "ipython",
    "version": 3
   },
   "file_extension": ".py",
   "mimetype": "text/x-python",
   "name": "python",
   "nbconvert_exporter": "python",
   "pygments_lexer": "ipython3",
   "version": "3.10.12"
  }
 },
 "nbformat": 4,
 "nbformat_minor": 4
}
