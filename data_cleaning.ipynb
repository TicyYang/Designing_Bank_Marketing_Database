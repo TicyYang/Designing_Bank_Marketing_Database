{
 "cells": [
  {
   "cell_type": "code",
   "execution_count": 1,
   "id": "e2edad3c-8286-4983-b5b7-35d94fd78023",
   "metadata": {
    "executionCancelledAt": null,
    "executionTime": 48,
    "lastExecutedAt": 1693640689182,
    "lastScheduledRunId": null,
    "lastSuccessfullyExecutedCode": "import pandas as pd\nimport numpy as np\n\n# Start coding here..."
   },
   "outputs": [],
   "source": [
    "import pandas as pd\n",
    "import numpy as np"
   ]
  },
  {
   "cell_type": "code",
   "execution_count": 2,
   "id": "2415f250-3db7-4ae9-9c6f-ce5ab2f71e58",
   "metadata": {
    "chartConfig": {
     "bar": {
      "hasRoundedCorners": true,
      "stacked": false
     },
     "type": "bar",
     "version": "v1"
    },
    "executionCancelledAt": null,
    "executionTime": 101,
    "lastExecutedAt": 1693640689466,
    "lastScheduledRunId": null,
    "lastSuccessfullyExecutedCode": "df = pd.read_csv('bank_marketing.csv')\ndf.head()",
    "outputsMetadata": {
     "0": {
      "height": 192,
      "type": "dataFrame"
     }
    },
    "visualizeDataframe": false
   },
   "outputs": [
    {
     "data": {
      "text/html": [
       "<div>\n",
       "<style scoped>\n",
       "    .dataframe tbody tr th:only-of-type {\n",
       "        vertical-align: middle;\n",
       "    }\n",
       "\n",
       "    .dataframe tbody tr th {\n",
       "        vertical-align: top;\n",
       "    }\n",
       "\n",
       "    .dataframe thead th {\n",
       "        text-align: right;\n",
       "    }\n",
       "</style>\n",
       "<table border=\"1\" class=\"dataframe\">\n",
       "  <thead>\n",
       "    <tr style=\"text-align: right;\">\n",
       "      <th></th>\n",
       "      <th>client_id</th>\n",
       "      <th>age</th>\n",
       "      <th>job</th>\n",
       "      <th>marital</th>\n",
       "      <th>education</th>\n",
       "      <th>credit_default</th>\n",
       "      <th>housing</th>\n",
       "      <th>loan</th>\n",
       "      <th>contact</th>\n",
       "      <th>month</th>\n",
       "      <th>...</th>\n",
       "      <th>campaign</th>\n",
       "      <th>pdays</th>\n",
       "      <th>previous</th>\n",
       "      <th>poutcome</th>\n",
       "      <th>emp_var_rate</th>\n",
       "      <th>cons_price_idx</th>\n",
       "      <th>cons_conf_idx</th>\n",
       "      <th>euribor3m</th>\n",
       "      <th>nr_employed</th>\n",
       "      <th>y</th>\n",
       "    </tr>\n",
       "  </thead>\n",
       "  <tbody>\n",
       "    <tr>\n",
       "      <th>0</th>\n",
       "      <td>0</td>\n",
       "      <td>56</td>\n",
       "      <td>housemaid</td>\n",
       "      <td>married</td>\n",
       "      <td>basic.4y</td>\n",
       "      <td>no</td>\n",
       "      <td>no</td>\n",
       "      <td>no</td>\n",
       "      <td>telephone</td>\n",
       "      <td>may</td>\n",
       "      <td>...</td>\n",
       "      <td>1</td>\n",
       "      <td>999</td>\n",
       "      <td>0</td>\n",
       "      <td>nonexistent</td>\n",
       "      <td>1.1</td>\n",
       "      <td>93.994</td>\n",
       "      <td>-36.4</td>\n",
       "      <td>4.857</td>\n",
       "      <td>5191.0</td>\n",
       "      <td>no</td>\n",
       "    </tr>\n",
       "    <tr>\n",
       "      <th>1</th>\n",
       "      <td>1</td>\n",
       "      <td>57</td>\n",
       "      <td>services</td>\n",
       "      <td>married</td>\n",
       "      <td>high.school</td>\n",
       "      <td>unknown</td>\n",
       "      <td>no</td>\n",
       "      <td>no</td>\n",
       "      <td>telephone</td>\n",
       "      <td>may</td>\n",
       "      <td>...</td>\n",
       "      <td>1</td>\n",
       "      <td>999</td>\n",
       "      <td>0</td>\n",
       "      <td>nonexistent</td>\n",
       "      <td>1.1</td>\n",
       "      <td>93.994</td>\n",
       "      <td>-36.4</td>\n",
       "      <td>4.857</td>\n",
       "      <td>5191.0</td>\n",
       "      <td>no</td>\n",
       "    </tr>\n",
       "    <tr>\n",
       "      <th>2</th>\n",
       "      <td>2</td>\n",
       "      <td>37</td>\n",
       "      <td>services</td>\n",
       "      <td>married</td>\n",
       "      <td>high.school</td>\n",
       "      <td>no</td>\n",
       "      <td>yes</td>\n",
       "      <td>no</td>\n",
       "      <td>telephone</td>\n",
       "      <td>may</td>\n",
       "      <td>...</td>\n",
       "      <td>1</td>\n",
       "      <td>999</td>\n",
       "      <td>0</td>\n",
       "      <td>nonexistent</td>\n",
       "      <td>1.1</td>\n",
       "      <td>93.994</td>\n",
       "      <td>-36.4</td>\n",
       "      <td>4.857</td>\n",
       "      <td>5191.0</td>\n",
       "      <td>no</td>\n",
       "    </tr>\n",
       "    <tr>\n",
       "      <th>3</th>\n",
       "      <td>3</td>\n",
       "      <td>40</td>\n",
       "      <td>admin.</td>\n",
       "      <td>married</td>\n",
       "      <td>basic.6y</td>\n",
       "      <td>no</td>\n",
       "      <td>no</td>\n",
       "      <td>no</td>\n",
       "      <td>telephone</td>\n",
       "      <td>may</td>\n",
       "      <td>...</td>\n",
       "      <td>1</td>\n",
       "      <td>999</td>\n",
       "      <td>0</td>\n",
       "      <td>nonexistent</td>\n",
       "      <td>1.1</td>\n",
       "      <td>93.994</td>\n",
       "      <td>-36.4</td>\n",
       "      <td>4.857</td>\n",
       "      <td>5191.0</td>\n",
       "      <td>no</td>\n",
       "    </tr>\n",
       "    <tr>\n",
       "      <th>4</th>\n",
       "      <td>4</td>\n",
       "      <td>56</td>\n",
       "      <td>services</td>\n",
       "      <td>married</td>\n",
       "      <td>high.school</td>\n",
       "      <td>no</td>\n",
       "      <td>no</td>\n",
       "      <td>yes</td>\n",
       "      <td>telephone</td>\n",
       "      <td>may</td>\n",
       "      <td>...</td>\n",
       "      <td>1</td>\n",
       "      <td>999</td>\n",
       "      <td>0</td>\n",
       "      <td>nonexistent</td>\n",
       "      <td>1.1</td>\n",
       "      <td>93.994</td>\n",
       "      <td>-36.4</td>\n",
       "      <td>4.857</td>\n",
       "      <td>5191.0</td>\n",
       "      <td>no</td>\n",
       "    </tr>\n",
       "  </tbody>\n",
       "</table>\n",
       "<p>5 rows × 22 columns</p>\n",
       "</div>"
      ],
      "text/plain": [
       "   client_id  age        job  marital    education credit_default housing  \\\n",
       "0          0   56  housemaid  married     basic.4y             no      no   \n",
       "1          1   57   services  married  high.school        unknown      no   \n",
       "2          2   37   services  married  high.school             no     yes   \n",
       "3          3   40     admin.  married     basic.6y             no      no   \n",
       "4          4   56   services  married  high.school             no      no   \n",
       "\n",
       "  loan    contact month  ...  campaign  pdays  previous     poutcome  \\\n",
       "0   no  telephone   may  ...         1    999         0  nonexistent   \n",
       "1   no  telephone   may  ...         1    999         0  nonexistent   \n",
       "2   no  telephone   may  ...         1    999         0  nonexistent   \n",
       "3   no  telephone   may  ...         1    999         0  nonexistent   \n",
       "4  yes  telephone   may  ...         1    999         0  nonexistent   \n",
       "\n",
       "   emp_var_rate cons_price_idx  cons_conf_idx  euribor3m  nr_employed   y  \n",
       "0           1.1         93.994          -36.4      4.857       5191.0  no  \n",
       "1           1.1         93.994          -36.4      4.857       5191.0  no  \n",
       "2           1.1         93.994          -36.4      4.857       5191.0  no  \n",
       "3           1.1         93.994          -36.4      4.857       5191.0  no  \n",
       "4           1.1         93.994          -36.4      4.857       5191.0  no  \n",
       "\n",
       "[5 rows x 22 columns]"
      ]
     },
     "execution_count": 2,
     "metadata": {},
     "output_type": "execute_result"
    }
   ],
   "source": [
    "df = pd.read_csv('csv_files/bank_marketing.csv')\n",
    "df.head()"
   ]
  },
  {
   "cell_type": "code",
   "execution_count": 3,
   "id": "7dfc09a7-bbcc-403d-9712-75beca115fc2",
   "metadata": {
    "executionCancelledAt": null,
    "executionTime": 17,
    "lastExecutedAt": 1693640690696,
    "lastScheduledRunId": null,
    "lastSuccessfullyExecutedCode": "client = df.loc[:, ['client_id', 'age', 'job', 'marital', 'education', 'credit_default', 'housing', 'loan']]\nclient.rename(columns={'client_id': 'id'}, \n                       inplace=True)\n\n\ncampaign = df.loc[:, ['client_id', 'campaign', 'month', 'day', 'duration', 'pdays', 'previous', 'poutcome', 'y']]\ncampaign.rename(columns={'campaign': 'number_contacts',\n                                    'duration': 'contact_duration', \n                                    'previous': 'previous_campaign_contacts', \n                                    'poutcome': 'previous_outcome', \n                                    'y': 'campaign_outcome'}, \n                          inplace=True)\n\neconomics = df.loc[:, ['client_id', 'emp_var_rate', 'cons_price_idx', 'euribor3m', 'nr_employed']]\neconomics.rename(columns={'euribor3m': 'euribor_three_months', \n                                      'nr_employed': 'number_employed'}, \n                             inplace=True)"
   },
   "outputs": [],
   "source": [
    "client = df.loc[:, ['client_id', 'age', 'job', 'marital', 'education', 'credit_default', 'housing', 'loan']]\n",
    "client.rename(columns={'client_id': 'id'}, \n",
    "                       inplace=True)\n",
    "\n",
    "\n",
    "campaign = df.loc[:, ['client_id', 'campaign', 'month', 'day', 'duration', 'pdays', 'previous', 'poutcome', 'y']]\n",
    "campaign.rename(columns={'campaign': 'number_contacts',\n",
    "                                    'duration': 'contact_duration', \n",
    "                                    'previous': 'previous_campaign_contacts', \n",
    "                                    'poutcome': 'previous_outcome', \n",
    "                                    'y': 'campaign_outcome'}, \n",
    "                          inplace=True)\n",
    "\n",
    "economics = df.loc[:, ['client_id', 'emp_var_rate', 'cons_price_idx', 'euribor3m', 'nr_employed']]\n",
    "economics.rename(columns={'euribor3m': 'euribor_three_months', \n",
    "                                      'nr_employed': 'number_employed'}, \n",
    "                             inplace=True)"
   ]
  },
  {
   "cell_type": "code",
   "execution_count": 4,
   "id": "d66ae858-4f9f-4ed5-80e1-35940f8e31fe",
   "metadata": {
    "executionCancelledAt": null,
    "executionTime": 36,
    "lastExecutedAt": 1693640691387,
    "lastScheduledRunId": null,
    "lastSuccessfullyExecutedCode": "client.info(show_counts=True)",
    "outputsMetadata": {
     "0": {
      "height": 310,
      "type": "stream"
     }
    }
   },
   "outputs": [
    {
     "name": "stdout",
     "output_type": "stream",
     "text": [
      "<class 'pandas.core.frame.DataFrame'>\n",
      "RangeIndex: 41188 entries, 0 to 41187\n",
      "Data columns (total 8 columns):\n",
      " #   Column          Non-Null Count  Dtype \n",
      "---  ------          --------------  ----- \n",
      " 0   id              41188 non-null  int64 \n",
      " 1   age             41188 non-null  int64 \n",
      " 2   job             41188 non-null  object\n",
      " 3   marital         41188 non-null  object\n",
      " 4   education       41188 non-null  object\n",
      " 5   credit_default  41188 non-null  object\n",
      " 6   housing         41188 non-null  object\n",
      " 7   loan            41188 non-null  object\n",
      "dtypes: int64(2), object(6)\n",
      "memory usage: 2.5+ MB\n"
     ]
    }
   ],
   "source": [
    "client.info(show_counts=True)"
   ]
  },
  {
   "cell_type": "code",
   "execution_count": 5,
   "id": "b38ab3dd-06f7-4d6d-a369-4e567b6c82b6",
   "metadata": {
    "executionCancelledAt": null,
    "executionTime": 25,
    "lastExecutedAt": 1693640692407,
    "lastScheduledRunId": null,
    "lastSuccessfullyExecutedCode": "campaign.info(show_counts=True)",
    "outputsMetadata": {
     "0": {
      "height": 329,
      "type": "stream"
     }
    }
   },
   "outputs": [
    {
     "name": "stdout",
     "output_type": "stream",
     "text": [
      "<class 'pandas.core.frame.DataFrame'>\n",
      "RangeIndex: 41188 entries, 0 to 41187\n",
      "Data columns (total 9 columns):\n",
      " #   Column                      Non-Null Count  Dtype \n",
      "---  ------                      --------------  ----- \n",
      " 0   client_id                   41188 non-null  int64 \n",
      " 1   number_contacts             41188 non-null  int64 \n",
      " 2   month                       41188 non-null  object\n",
      " 3   day                         41188 non-null  int64 \n",
      " 4   contact_duration            41188 non-null  int64 \n",
      " 5   pdays                       41188 non-null  int64 \n",
      " 6   previous_campaign_contacts  41188 non-null  int64 \n",
      " 7   previous_outcome            41188 non-null  object\n",
      " 8   campaign_outcome            41188 non-null  object\n",
      "dtypes: int64(6), object(3)\n",
      "memory usage: 2.8+ MB\n"
     ]
    }
   ],
   "source": [
    "campaign.info(show_counts=True)"
   ]
  },
  {
   "cell_type": "code",
   "execution_count": 6,
   "id": "aa0efdf2-f37d-4b2c-b693-0615bcd0c135",
   "metadata": {
    "executionCancelledAt": null,
    "executionTime": 13,
    "lastExecutedAt": 1693640693559,
    "lastScheduledRunId": null,
    "lastSuccessfullyExecutedCode": "economics.info(show_counts=True)",
    "outputsMetadata": {
     "0": {
      "height": 251,
      "type": "stream"
     }
    }
   },
   "outputs": [
    {
     "name": "stdout",
     "output_type": "stream",
     "text": [
      "<class 'pandas.core.frame.DataFrame'>\n",
      "RangeIndex: 41188 entries, 0 to 41187\n",
      "Data columns (total 5 columns):\n",
      " #   Column                Non-Null Count  Dtype  \n",
      "---  ------                --------------  -----  \n",
      " 0   client_id             41188 non-null  int64  \n",
      " 1   emp_var_rate          41188 non-null  float64\n",
      " 2   cons_price_idx        41188 non-null  float64\n",
      " 3   euribor_three_months  41188 non-null  float64\n",
      " 4   number_employed       41188 non-null  float64\n",
      "dtypes: float64(4), int64(1)\n",
      "memory usage: 1.6 MB\n"
     ]
    }
   ],
   "source": [
    "economics.info(show_counts=True)"
   ]
  },
  {
   "cell_type": "code",
   "execution_count": 7,
   "id": "219279c0-2b58-40b2-96b5-a20fea9a5b28",
   "metadata": {
    "executionCancelledAt": null,
    "executionTime": 62,
    "lastExecutedAt": 1693640694504,
    "lastScheduledRunId": null,
    "lastSuccessfullyExecutedCode": "client['education'] = client['education'].str.replace('.', '_')\nclient['education'] = client['education'].replace('unknown', np.nan)\n\nclient['job'] = client['job'].str.replace('.', '')\n\nclient['credit_default'] = np.where(client['credit_default'] == 'yes', 1, 0)\n\nclient['housing'] = np.where(client['housing'] == 'yes', 1, 0)\n\nclient['loan'] = np.where(client['loan'] == 'yes', 1, 0)\nclient.info()",
    "outputsMetadata": {
     "0": {
      "height": 310,
      "type": "stream"
     }
    }
   },
   "outputs": [
    {
     "name": "stdout",
     "output_type": "stream",
     "text": [
      "<class 'pandas.core.frame.DataFrame'>\n",
      "RangeIndex: 41188 entries, 0 to 41187\n",
      "Data columns (total 8 columns):\n",
      " #   Column          Non-Null Count  Dtype \n",
      "---  ------          --------------  ----- \n",
      " 0   id              41188 non-null  int64 \n",
      " 1   age             41188 non-null  int64 \n",
      " 2   job             41188 non-null  object\n",
      " 3   marital         41188 non-null  object\n",
      " 4   education       39457 non-null  object\n",
      " 5   credit_default  41188 non-null  int32 \n",
      " 6   housing         41188 non-null  int32 \n",
      " 7   loan            41188 non-null  int32 \n",
      "dtypes: int32(3), int64(2), object(3)\n",
      "memory usage: 2.0+ MB\n"
     ]
    },
    {
     "name": "stderr",
     "output_type": "stream",
     "text": [
      "C:\\Users\\Ticy\\AppData\\Local\\Temp\\ipykernel_13372\\2878782018.py:1: FutureWarning: The default value of regex will change from True to False in a future version. In addition, single character regular expressions will *not* be treated as literal strings when regex=True.\n",
      "  client['education'] = client['education'].str.replace('.', '_')\n",
      "C:\\Users\\Ticy\\AppData\\Local\\Temp\\ipykernel_13372\\2878782018.py:4: FutureWarning: The default value of regex will change from True to False in a future version. In addition, single character regular expressions will *not* be treated as literal strings when regex=True.\n",
      "  client['job'] = client['job'].str.replace('.', '')\n"
     ]
    }
   ],
   "source": [
    "client['education'] = client['education'].str.replace('.', '_')\n",
    "client['education'] = client['education'].replace('unknown', np.nan)\n",
    "\n",
    "client['job'] = client['job'].str.replace('.', '')\n",
    "\n",
    "client['credit_default'] = np.where(client['credit_default'] == 'yes', 1, 0)\n",
    "\n",
    "client['housing'] = np.where(client['housing'] == 'yes', 1, 0)\n",
    "\n",
    "client['loan'] = np.where(client['loan'] == 'yes', 1, 0)\n",
    "client.info()"
   ]
  },
  {
   "cell_type": "code",
   "execution_count": 8,
   "id": "07c700d4-2154-4fd7-ac76-99f1e1d3a4c0",
   "metadata": {
    "executionCancelledAt": null,
    "executionTime": 15,
    "lastExecutedAt": 1693640695435,
    "lastScheduledRunId": null,
    "lastSuccessfullyExecutedCode": "campaign['previous_outcome'] = np.where(campaign['previous_outcome'] == 'success', 1, 0)\n\ncampaign['campaign_outcome'] = np.where(campaign['campaign_outcome'] == 'yes', 1, 0)"
   },
   "outputs": [],
   "source": [
    "campaign['previous_outcome'] = np.where(campaign['previous_outcome'] == 'success', 1, 0)\n",
    "\n",
    "campaign['campaign_outcome'] = np.where(campaign['campaign_outcome'] == 'yes', 1, 0)"
   ]
  },
  {
   "cell_type": "code",
   "execution_count": 9,
   "id": "b6093273-6f16-4b87-9211-3ece065d6736",
   "metadata": {
    "executionCancelledAt": null,
    "executionTime": 11,
    "lastExecutedAt": 1693640706008,
    "lastScheduledRunId": null,
    "lastSuccessfullyExecutedCode": "campaign['campaign_id'] = 1"
   },
   "outputs": [],
   "source": [
    "campaign['campaign_id'] = 1"
   ]
  },
  {
   "cell_type": "code",
   "execution_count": 10,
   "id": "afefe19f-e26d-4a07-aea8-cc155746438a",
   "metadata": {
    "executionCancelledAt": null,
    "executionTime": 48,
    "lastExecutedAt": 1693640707541,
    "lastScheduledRunId": null,
    "lastSuccessfullyExecutedCode": "campaign[\"month\"] = campaign[\"month\"].str.capitalize()\ncampaign[\"year\"] = \"2022\"\ncampaign[\"day\"] = campaign[\"day\"].astype(str)\n\ncampaign[\"last_contact_date\"] = campaign[\"year\"] + \"-\" + campaign[\"month\"] + \"-\" + campaign[\"day\"]\ncampaign[\"last_contact_date\"] = pd.to_datetime(campaign[\"last_contact_date\"], \n                                               format=\"%Y-%b-%d\")\n\ncampaign.drop(columns=[\"month\", \"day\", \"year\"], inplace=True)"
   },
   "outputs": [],
   "source": [
    "campaign[\"month\"] = campaign[\"month\"].str.capitalize()\n",
    "campaign[\"year\"] = \"2022\"\n",
    "campaign[\"day\"] = campaign[\"day\"].astype(str)\n",
    "\n",
    "campaign[\"last_contact_date\"] = campaign[\"year\"] + \"-\" + campaign[\"month\"] + \"-\" + campaign[\"day\"]\n",
    "campaign[\"last_contact_date\"] = pd.to_datetime(campaign[\"last_contact_date\"], \n",
    "                                               format=\"%Y-%b-%d\")\n",
    "\n",
    "campaign.drop(columns=[\"month\", \"day\", \"year\"], inplace=True)"
   ]
  },
  {
   "cell_type": "code",
   "execution_count": 11,
   "id": "c99e3cf8-1193-4dc8-99c5-1adc01f7d275",
   "metadata": {
    "executionCancelledAt": null,
    "executionTime": 439,
    "lastExecutedAt": 1693640708509,
    "lastScheduledRunId": null,
    "lastSuccessfullyExecutedCode": "client.to_csv(\"client.csv\", index=False)\ncampaign.to_csv(\"campaign.csv\", index=False)\neconomics.to_csv(\"economics.csv\", index=False)"
   },
   "outputs": [],
   "source": [
    "client.to_csv(\"client.csv\", index=False)\n",
    "campaign.to_csv(\"campaign.csv\", index=False)\n",
    "economics.to_csv(\"economics.csv\", index=False)"
   ]
  },
  {
   "cell_type": "code",
   "execution_count": 12,
   "id": "0d71be3a-b6b3-4f28-b1b0-9330979801d3",
   "metadata": {
    "executionCancelledAt": null,
    "executionTime": 78,
    "lastExecutedAt": 1693640708743,
    "lastScheduledRunId": null,
    "lastSuccessfullyExecutedCode": "import pandas as pd\nclient = pd.read_csv('client.csv')\nclient.info()",
    "outputsMetadata": {
     "0": {
      "height": 310,
      "type": "stream"
     }
    }
   },
   "outputs": [
    {
     "name": "stdout",
     "output_type": "stream",
     "text": [
      "<class 'pandas.core.frame.DataFrame'>\n",
      "RangeIndex: 41188 entries, 0 to 41187\n",
      "Data columns (total 8 columns):\n",
      " #   Column          Non-Null Count  Dtype \n",
      "---  ------          --------------  ----- \n",
      " 0   id              41188 non-null  int64 \n",
      " 1   age             41188 non-null  int64 \n",
      " 2   job             41188 non-null  object\n",
      " 3   marital         41188 non-null  object\n",
      " 4   education       39457 non-null  object\n",
      " 5   credit_default  41188 non-null  int64 \n",
      " 6   housing         41188 non-null  int64 \n",
      " 7   loan            41188 non-null  int64 \n",
      "dtypes: int64(5), object(3)\n",
      "memory usage: 2.5+ MB\n"
     ]
    }
   ],
   "source": [
    "import pandas as pd\n",
    "client = pd.read_csv('client.csv')\n",
    "client.info()"
   ]
  },
  {
   "cell_type": "code",
   "execution_count": 13,
   "id": "3cb88919-467b-446c-a5c0-ec7f68c78e5f",
   "metadata": {
    "executionCancelledAt": null,
    "executionTime": 50,
    "lastExecutedAt": 1693640712694,
    "lastScheduledRunId": null,
    "lastSuccessfullyExecutedCode": "import pandas as pd\ncampaign = pd.read_csv('campaign.csv')\ncampaign.info()",
    "outputsMetadata": {
     "0": {
      "height": 329,
      "type": "stream"
     }
    }
   },
   "outputs": [
    {
     "name": "stdout",
     "output_type": "stream",
     "text": [
      "<class 'pandas.core.frame.DataFrame'>\n",
      "RangeIndex: 41188 entries, 0 to 41187\n",
      "Data columns (total 9 columns):\n",
      " #   Column                      Non-Null Count  Dtype \n",
      "---  ------                      --------------  ----- \n",
      " 0   client_id                   41188 non-null  int64 \n",
      " 1   number_contacts             41188 non-null  int64 \n",
      " 2   contact_duration            41188 non-null  int64 \n",
      " 3   pdays                       41188 non-null  int64 \n",
      " 4   previous_campaign_contacts  41188 non-null  int64 \n",
      " 5   previous_outcome            41188 non-null  int64 \n",
      " 6   campaign_outcome            41188 non-null  int64 \n",
      " 7   campaign_id                 41188 non-null  int64 \n",
      " 8   last_contact_date           41188 non-null  object\n",
      "dtypes: int64(8), object(1)\n",
      "memory usage: 2.8+ MB\n"
     ]
    }
   ],
   "source": [
    "import pandas as pd\n",
    "campaign = pd.read_csv('campaign.csv')\n",
    "campaign.info()"
   ]
  }
 ],
 "metadata": {
  "editor": "DataCamp Workspace",
  "kernelspec": {
   "display_name": "Python 3 (ipykernel)",
   "language": "python",
   "name": "python3"
  },
  "language_info": {
   "codemirror_mode": {
    "name": "ipython",
    "version": 3
   },
   "file_extension": ".py",
   "mimetype": "text/x-python",
   "name": "python",
   "nbconvert_exporter": "python",
   "pygments_lexer": "ipython3",
   "version": "3.10.12"
  }
 },
 "nbformat": 4,
 "nbformat_minor": 5
}
